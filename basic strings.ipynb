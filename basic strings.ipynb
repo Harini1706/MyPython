{
 "cells": [
  {
   "cell_type": "code",
   "execution_count": 2,
   "metadata": {},
   "outputs": [
    {
     "name": "stdout",
     "output_type": "stream",
     "text": [
      "enter your choice:1586\n",
      "sum is 20\n"
     ]
    }
   ],
   "source": [
    "word=str(input(\"enter your choice:\"))\n",
    "def sum_str_func(word):\n",
    "    add=0\n",
    "    n=len(word)\n",
    "    while n>=0:\n",
    "        rem=int(word)%10\n",
    "        add=add+rem\n",
    "        word=int(word)//10\n",
    "        n=n-1\n",
    "    return add\n",
    "s_m=sum_str_func(word)\n",
    "print(f\"sum is {s_m}\")"
   ]
  },
  {
   "cell_type": "code",
   "execution_count": 6,
   "metadata": {},
   "outputs": [
    {
     "name": "stdout",
     "output_type": "stream",
     "text": [
      "enter your choice:12365\n",
      "5\n"
     ]
    }
   ],
   "source": [
    "gn=str(input(\"enter your choice:\"))\n",
    "def str_func(gn):\n",
    "    a=len(gn)\n",
    "    print (gn[a-1])\n",
    "str_func(gn)    "
   ]
  },
  {
   "cell_type": "code",
   "execution_count": 3,
   "metadata": {},
   "outputs": [
    {
     "name": "stdout",
     "output_type": "stream",
     "text": [
      "enter your choice:amazing\n",
      "am\n",
      "ng\n"
     ]
    }
   ],
   "source": [
    "string=str(input(\"enter your choice:\"))\n",
    "def slicing_func(string):\n",
    "    print (string[:2])\n",
    "    print (string[-2:])\n",
    "slicing_func(string)    "
   ]
  },
  {
   "cell_type": "code",
   "execution_count": null,
   "metadata": {},
   "outputs": [],
   "source": []
  }
 ],
 "metadata": {
  "kernelspec": {
   "display_name": "Python 3",
   "language": "python",
   "name": "python3"
  },
  "language_info": {
   "codemirror_mode": {
    "name": "ipython",
    "version": 3
   },
   "file_extension": ".py",
   "mimetype": "text/x-python",
   "name": "python",
   "nbconvert_exporter": "python",
   "pygments_lexer": "ipython3",
   "version": "3.7.6"
  }
 },
 "nbformat": 4,
 "nbformat_minor": 4
}
