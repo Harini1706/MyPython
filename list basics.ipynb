{
 "cells": [
  {
   "cell_type": "code",
   "execution_count": null,
   "metadata": {},
   "outputs": [],
   "source": [
    "def string():\n",
    "    n=0\n",
    "    while (n==0):\n",
    "        try:\n",
    "            email=str(input(\"enter the email\"))\n",
    "            if (email.find('@')!=-1):\n",
    "                if (email.find('.com')!=-1):\n",
    "                   return email\n",
    "                else:\n",
    "                    print(\"no mail id is found\")\n",
    "            else:\n",
    "                print(\"no email id is found.please enter a valid emailid\")\n",
    "        except: \n",
    "            print(\"better luck next time\")\n",
    "emailid=string() \n",
    "print(f\"Emailid is {emailid}\")\n"
   ]
  },
  {
   "cell_type": "code",
   "execution_count": null,
   "metadata": {},
   "outputs": [],
   "source": [
    "def string_email():\n",
    "    email=input(\"enter the email\")\n",
    "    if (email.find('@')!=-1):\n",
    "        if (email.find('.com')!=-1):\n",
    "            n=1\n",
    "            return email\n",
    "    else:\n",
    "        print (\"none\")\n",
    "string_email()"
   ]
  },
  {
   "cell_type": "code",
   "execution_count": 1,
   "metadata": {},
   "outputs": [
    {
     "name": "stdout",
     "output_type": "stream",
     "text": [
      "enter the principal:fsdf\n",
      "enter the rate:ter\n",
      "enter the time:tergd\n",
      "please enter a valid input\n",
      "enter the principal:453\n",
      "enter the rate:4\n",
      "enter the time:45\n",
      "the simple interest is815.4\n"
     ]
    }
   ],
   "source": [
    "def sim_intrst():\n",
    "    n=0\n",
    "    while (n==0):\n",
    "        principal=input(\"enter the principal:\")\n",
    "        rate=input(\"enter the rate:\")\n",
    "        time=input(\"enter the time:\")\n",
    "        try:\n",
    "                principal=float(principal);rate=float(rate);time=float(time)\n",
    "                simpleInterest=(principal*rate*time)/100\n",
    "                print(f\"the simple interest is{simpleInterest}\")\n",
    "                n=1\n",
    "        except:\n",
    "            print(\"please enter a valid input\")\n",
    "            \n",
    "sim_intrst()\n"
   ]
  },
  {
   "cell_type": "code",
   "execution_count": 3,
   "metadata": {
    "scrolled": true
   },
   "outputs": [
    {
     "name": "stdout",
     "output_type": "stream",
     "text": [
      "enter the number of elements you want:5\n",
      "enter the 0th number:1\n",
      "enter the 1th number:2\n",
      "enter the 2th number:35\n",
      "enter the 3th number:45\n",
      "enter the 4th number:255\n",
      "[1, 2, 35, 45, 255]\n",
      "[1, 255]\n"
     ]
    }
   ],
   "source": [
    "def lists():\n",
    "    i=0\n",
    "    a=[]\n",
    "    for i in range(0,num):\n",
    "        a.append(int(input(f\"enter the {i}th number:\")))\n",
    "        i=i+1\n",
    "        \n",
    "    print (a)\n",
    "    b=[]\n",
    "    b.append(a[0])\n",
    "    b.append(a[num-1])\n",
    "    print(b)\n",
    "num=int(input(\"enter the number of elements you want:\"))\n",
    "lists()"
   ]
  },
  {
   "cell_type": "code",
   "execution_count": null,
   "metadata": {},
   "outputs": [],
   "source": []
  }
 ],
 "metadata": {
  "kernelspec": {
   "display_name": "Python 3",
   "language": "python",
   "name": "python3"
  },
  "language_info": {
   "codemirror_mode": {
    "name": "ipython",
    "version": 3
   },
   "file_extension": ".py",
   "mimetype": "text/x-python",
   "name": "python",
   "nbconvert_exporter": "python",
   "pygments_lexer": "ipython3",
   "version": "3.7.6"
  }
 },
 "nbformat": 4,
 "nbformat_minor": 4
}
