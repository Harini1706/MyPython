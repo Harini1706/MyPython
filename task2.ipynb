{
 "cells": [
  {
   "cell_type": "code",
   "execution_count": 1,
   "metadata": {
    "scrolled": true
   },
   "outputs": [
    {
     "name": "stdout",
     "output_type": "stream",
     "text": [
      "enter the word:jaadfrghh\n",
      "[0, 1, 1, 3, 4, 5, 6, 7, 7]\n"
     ]
    }
   ],
   "source": [
    "strn=(input(\"enter the word:\"))\n",
    "strn=list(strn)\n",
    "newlist=[]\n",
    "def count(strn):\n",
    "    a=dict()\n",
    "    cou=0\n",
    "    str1=[]\n",
    "    str2=[]\n",
    "    str1.append(0)\n",
    "    words=strn\n",
    "    n=len(strn)\n",
    "    for i in range(0,n):\n",
    "        for j in range (0,n):\n",
    "            if(i!=j):\n",
    "                if(strn[i]==strn[j]):  \n",
    "                    cou=cou+1\n",
    "                  #  cou=strn.index(strn[i])\n",
    "                   # str1[i]=strn.index(strn[i])\n",
    "                   # str1[j]=strn.index(strn[i])\n",
    "                else:\n",
    "                    cou=cou+1\n",
    "                   # str1.append(max(str1))\n",
    "                    #str1[i]=cou\n",
    "            else:\n",
    "                j=j+1\n",
    "        str1.append(strn.index(strn[i]))\n",
    "        cou=cou+1\n",
    "    str2=list(str1)\n",
    "    str1.pop(str1[0])\n",
    "    return str1\n",
    "ans=count(strn)\n",
    "print(ans)"
   ]
  },
  {
   "cell_type": "code",
   "execution_count": 2,
   "metadata": {},
   "outputs": [
    {
     "name": "stdout",
     "output_type": "stream",
     "text": [
      "enter the word:bbacbd\n",
      "[0, 0, 1, 2, 0, 3]\n"
     ]
    }
   ],
   "source": [
    "def character_mapping(strn):\n",
    "    count=0\n",
    "    word={}\n",
    "    mapping=[]\n",
    "    for char in strn:\n",
    "        if char not in word:\n",
    "            word[char]=count\n",
    "            count+=1\n",
    "        mapping.append(word[char])\n",
    "    return mapping\n",
    "strn=input(\"enter the word:\")\n",
    "ans=character_mapping(strn)\n",
    "print(ans)\n"
   ]
  },
  {
   "cell_type": "code",
   "execution_count": 4,
   "metadata": {},
   "outputs": [
    {
     "name": "stdout",
     "output_type": "stream",
     "text": [
      "enter strn1:abcde\n",
      "enter strn2:cab\n",
      "2\n"
     ]
    }
   ],
   "source": [
    "strn1=input(\"enter strn1:\")\n",
    "strn2=input(\"enter strn2:\")\n",
    "def min_removal(strn1,strn2):\n",
    "    strn1=set(strn1)\n",
    "    strn2=set(strn2)\n",
    "    remove=len(strn1^strn2)\n",
    "    return remove\n",
    "ans=min_removal(strn1,strn2)\n",
    "print(ans)\n",
    "    "
   ]
  },
  {
   "cell_type": "code",
   "execution_count": 23,
   "metadata": {},
   "outputs": [
    {
     "name": "stdout",
     "output_type": "stream",
     "text": [
      "enter the num for sqrt:56.98\n",
      "7.548509786706248\n",
      "enter the num for log:1000\n",
      "6.907755278982137\n",
      "enter the degree:26\n",
      "25.116816571324026\n",
      "enter the radius:3.5\n",
      "38.465\n"
     ]
    }
   ],
   "source": [
    "import math\n",
    "rt=float(input(\"enter the num for sqrt:\"))\n",
    "square_root=math.sqrt(rt)\n",
    "print(square_root)\n",
    "X=float(input(\"enter the num for log:\"))\n",
    "math.e=2.71\n",
    "log_e=math.log(X)\n",
    "print(log_e)\n",
    "x=float(input(\"enter the degree:\"))\n",
    "def sine(x):\n",
    "    rad=math.radians(x)\n",
    "    sin=math.sin(rad)\n",
    "    \n",
    "    deg=math.degrees(sin)\n",
    "    return deg\n",
    "sine_degree=sine(x)\n",
    "print(sine_degree)\n",
    "radi=float(input(\"enter the radius:\"))\n",
    "math.pi=3.14\n",
    "area_of_circle=3.14*radi*radi\n",
    "print(area_of_circle)"
   ]
  },
  {
   "cell_type": "code",
   "execution_count": null,
   "metadata": {},
   "outputs": [],
   "source": []
  },
  {
   "cell_type": "code",
   "execution_count": null,
   "metadata": {},
   "outputs": [],
   "source": []
  }
 ],
 "metadata": {
  "kernelspec": {
   "display_name": "Python 3",
   "language": "python",
   "name": "python3"
  },
  "language_info": {
   "codemirror_mode": {
    "name": "ipython",
    "version": 3
   },
   "file_extension": ".py",
   "mimetype": "text/x-python",
   "name": "python",
   "nbconvert_exporter": "python",
   "pygments_lexer": "ipython3",
   "version": "3.7.6"
  }
 },
 "nbformat": 4,
 "nbformat_minor": 4
}
