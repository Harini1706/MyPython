{
 "cells": [
  {
   "cell_type": "code",
   "execution_count": null,
   "metadata": {},
   "outputs": [],
   "source": [
    "h=str(input(\"enter the  text:\"))\n",
    "len(h)\n",
    "h[::-2]"
   ]
  },
  {
   "cell_type": "code",
   "execution_count": null,
   "metadata": {},
   "outputs": [],
   "source": [
    "a = [6, 13, 22, 40]\n",
    "for i in range( len( a )-1, 0, -1 ):\n",
    "    a[i] -= a[i-1]\n",
    "\n",
    "print (a)"
   ]
  },
  {
   "cell_type": "code",
   "execution_count": null,
   "metadata": {},
   "outputs": [],
   "source": [
    "import random\n",
    "\n",
    "def game(num_digits):\n",
    "    # generate list of random integers of length num_digits\n",
    "    listnum = [random.randint(0,9) for n in range(num_digits)]\n",
    "    print(\"Solution key = \" + str(listnum))\n",
    "\n",
    "    count=0\n",
    "    while True:\n",
    "        count+=1\n",
    "        print(\"~~~ Guess: \" + str(count) + \" ~~~\")\n",
    "\n",
    "        print(\"Please guess \" + str(num_digits) + \"-digit number: \")\n",
    "        # transform input string (e.g. \"1234\") to list of integers (e.g. [1,2,3,4])\n",
    "        guess = [int(i) for i in str(input())]\n",
    "\n",
    "        if guess == listnum:\n",
    "            print(\"You won.\")\n",
    "            print(\"It took you \"+str(count)+\" guess(es).\")\n",
    "            break\n",
    "\n",
    "        else:\n",
    "            cow=0\n",
    "            bull=0\n",
    "\n",
    "            for x in range(0,num_digits):\n",
    "                if guess[x]==listnum[x]:\n",
    "                    cow += 1\n",
    "                elif guess[x] in listnum: # look if digit is somewhere else in the solution key (might already be a cow)\n",
    "                    bull += 1\n",
    "\n",
    "        print(\"Cows: \"+str(cow)+\" Bulls: \"+str(bull))\n",
    "        print(\"++++++++++++++++\")\n",
    "\n",
    "game(4)"
   ]
  },
  {
   "cell_type": "code",
   "execution_count": 5,
   "metadata": {},
   "outputs": [
    {
     "name": "stdout",
     "output_type": "stream",
     "text": [
      "enter the string:bala\n",
      "{}\n"
     ]
    }
   ],
   "source": [
    "import string\n",
    "def count(strn):\n",
    "    a=dict()\n",
    "    words = strn.split()\n",
    "    for word in words:\n",
    "        if word in a:\n",
    "            a[word]=a.get(word,0)+ 1           \n",
    "    return a\n",
    "\n",
    "strn=input(\"enter the string:\")\n",
    "print(count(strn))"
   ]
  },
  {
   "cell_type": "code",
   "execution_count": 3,
   "metadata": {},
   "outputs": [
    {
     "name": "stdout",
     "output_type": "stream",
     "text": [
      "enter the string:hai,kavi.how are you?\n",
      "{'hai': 1, 'kavi': 1, 'how': 1, 'are': 1, 'you': 1}\n"
     ]
    }
   ],
   "source": [
    "import string\n",
    "def count(strn):\n",
    "    a=dict()\n",
    "    words = strn.split()\n",
    "    for word in words:\n",
    "        if word in a:\n",
    "            a[word]=a.get(word,0)+ 1\n",
    "        else:\n",
    "            a[word] = 1\n",
    "\n",
    "    return a\n",
    "\n",
    "strn=input(\"enter the string:\")\n",
    "strn=strn.lower()\n",
    "for char in \"!,.-;:?\":\n",
    "    strn=strn.replace(char,\" \")\n",
    "words = strn.split()\n",
    "occu=count(strn)\n",
    "print(occu)"
   ]
  }
 ],
 "metadata": {
  "kernelspec": {
   "display_name": "Python 3",
   "language": "python",
   "name": "python3"
  },
  "language_info": {
   "codemirror_mode": {
    "name": "ipython",
    "version": 3
   },
   "file_extension": ".py",
   "mimetype": "text/x-python",
   "name": "python",
   "nbconvert_exporter": "python",
   "pygments_lexer": "ipython3",
   "version": "3.7.6"
  }
 },
 "nbformat": 4,
 "nbformat_minor": 4
}
